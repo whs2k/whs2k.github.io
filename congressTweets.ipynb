{
 "cells": [
  {
   "cell_type": "code",
   "execution_count": 1,
   "metadata": {
    "collapsed": true
   },
   "outputs": [],
   "source": [
    "# Download IMDB data from site -- http://ai.stanford.edu/~amaas/data/sentiment/\n",
    "# p.234 of Python Machine Learning by Sebastian Raschka\n"
   ]
  },
  {
   "cell_type": "code",
   "execution_count": 2,
   "metadata": {
    "collapsed": false
   },
   "outputs": [
    {
     "name": "stdout",
     "output_type": "stream",
     "text": [
      "/Users/whs/Documents/GitHub/whs2k.github.io\n"
     ]
    }
   ],
   "source": [
    "import os\n",
    "import pandas as pd\n",
    "\n",
    "pwd = os.getcwd()\n",
    "print(pwd)\n",
    "file = os.listdir(pwd)"
   ]
  },
  {
   "cell_type": "code",
   "execution_count": 3,
   "metadata": {
    "collapsed": false,
    "scrolled": true
   },
   "outputs": [
    {
     "name": "stdout",
     "output_type": "stream",
     "text": [
      "(49999, 2)\n"
     ]
    }
   ],
   "source": [
    "#################\n",
    "# Start here    #\n",
    "#################\n",
    "#import pyprind\n",
    "\n",
    "df = pd.read_csv(pwd+'/movie_data.csv', encoding='utf-8')\n",
    "df.columns = ['review', 'sentiment']\n",
    "\n",
    "print(df.shape)"
   ]
  },
  {
   "cell_type": "code",
   "execution_count": 4,
   "metadata": {
    "collapsed": false,
    "scrolled": true
   },
   "outputs": [
    {
     "data": {
      "text/html": [
       "<div>\n",
       "<style>\n",
       "    .dataframe thead tr:only-child th {\n",
       "        text-align: right;\n",
       "    }\n",
       "\n",
       "    .dataframe thead th {\n",
       "        text-align: left;\n",
       "    }\n",
       "\n",
       "    .dataframe tbody tr th {\n",
       "        vertical-align: top;\n",
       "    }\n",
       "</style>\n",
       "<table border=\"1\" class=\"dataframe\">\n",
       "  <thead>\n",
       "    <tr style=\"text-align: right;\">\n",
       "      <th></th>\n",
       "      <th>review</th>\n",
       "      <th>sentiment</th>\n",
       "    </tr>\n",
       "  </thead>\n",
       "  <tbody>\n",
       "    <tr>\n",
       "      <th>0</th>\n",
       "      <td>In 1974, the teenager Martha Moxley (Maggie Gr...</td>\n",
       "      <td>1</td>\n",
       "    </tr>\n",
       "    <tr>\n",
       "      <th>1</th>\n",
       "      <td>OK... so... I really like Kris Kristofferson a...</td>\n",
       "      <td>0</td>\n",
       "    </tr>\n",
       "    <tr>\n",
       "      <th>2</th>\n",
       "      <td>***SPOILER*** Do not read this, if you think a...</td>\n",
       "      <td>0</td>\n",
       "    </tr>\n",
       "    <tr>\n",
       "      <th>3</th>\n",
       "      <td>hi for all the people who have seen this wonde...</td>\n",
       "      <td>1</td>\n",
       "    </tr>\n",
       "    <tr>\n",
       "      <th>4</th>\n",
       "      <td>I recently bought the DVD, forgetting just how...</td>\n",
       "      <td>0</td>\n",
       "    </tr>\n",
       "    <tr>\n",
       "      <th>5</th>\n",
       "      <td>Leave it to Braik to put on a good show. Final...</td>\n",
       "      <td>1</td>\n",
       "    </tr>\n",
       "    <tr>\n",
       "      <th>6</th>\n",
       "      <td>Nathan Detroit (Frank Sinatra) is the manager ...</td>\n",
       "      <td>1</td>\n",
       "    </tr>\n",
       "    <tr>\n",
       "      <th>7</th>\n",
       "      <td>To understand \"Crash Course\" in the right cont...</td>\n",
       "      <td>1</td>\n",
       "    </tr>\n",
       "    <tr>\n",
       "      <th>8</th>\n",
       "      <td>I've been impressed with Chavez's stance again...</td>\n",
       "      <td>1</td>\n",
       "    </tr>\n",
       "    <tr>\n",
       "      <th>9</th>\n",
       "      <td>This movie is directed by Renny Harlin the fin...</td>\n",
       "      <td>1</td>\n",
       "    </tr>\n",
       "  </tbody>\n",
       "</table>\n",
       "</div>"
      ],
      "text/plain": [
       "                                              review  sentiment\n",
       "0  In 1974, the teenager Martha Moxley (Maggie Gr...          1\n",
       "1  OK... so... I really like Kris Kristofferson a...          0\n",
       "2  ***SPOILER*** Do not read this, if you think a...          0\n",
       "3  hi for all the people who have seen this wonde...          1\n",
       "4  I recently bought the DVD, forgetting just how...          0\n",
       "5  Leave it to Braik to put on a good show. Final...          1\n",
       "6  Nathan Detroit (Frank Sinatra) is the manager ...          1\n",
       "7  To understand \"Crash Course\" in the right cont...          1\n",
       "8  I've been impressed with Chavez's stance again...          1\n",
       "9  This movie is directed by Renny Harlin the fin...          1"
      ]
     },
     "execution_count": 4,
     "metadata": {},
     "output_type": "execute_result"
    }
   ],
   "source": [
    "df.head(10)"
   ]
  },
  {
   "cell_type": "code",
   "execution_count": 5,
   "metadata": {
    "collapsed": false,
    "scrolled": true
   },
   "outputs": [
    {
     "data": {
      "text/plain": [
       "review       hi for all the people who have seen this wonde...\n",
       "sentiment                                                    1\n",
       "Name: 3, dtype: object"
      ]
     },
     "execution_count": 5,
     "metadata": {},
     "output_type": "execute_result"
    }
   ],
   "source": [
    "df.loc[3]"
   ]
  },
  {
   "cell_type": "markdown",
   "metadata": {},
   "source": [
    "# Prep Data"
   ]
  },
  {
   "cell_type": "code",
   "execution_count": 6,
   "metadata": {
    "collapsed": false
   },
   "outputs": [
    {
     "name": "stdout",
     "output_type": "stream",
     "text": [
      "{'the': 5, 'sun': 3, 'is': 1, 'shining': 2, 'weather': 6, 'sweet': 4, 'and': 0}\n",
      "[[0 1 1 1 0 1 0]\n",
      " [0 1 0 0 1 1 1]\n",
      " [1 2 1 1 1 2 1]]\n"
     ]
    }
   ],
   "source": [
    "# Bag of Word model\n",
    "# 1. create a vocabulary of unique tokens (or words)\n",
    "# 2. construct a feature vector for each document, features store count\n",
    "#    of words per document\n",
    "\n",
    "import numpy as np\n",
    "from sklearn.feature_extraction.text import CountVectorizer\n",
    "\n",
    "count = CountVectorizer() #Instanstiate the count array\n",
    "\n",
    "docs = np.array(['The sun is shining', \n",
    "                 'The weather is sweet',\n",
    "                 'The sun is shining and the weather is sweet'])\n",
    "\n",
    "bag = count.fit_transform(docs)\n",
    "\n",
    "print(count.vocabulary_)\n",
    "print(bag.toarray())"
   ]
  },
  {
   "cell_type": "code",
   "execution_count": 7,
   "metadata": {
    "collapsed": true
   },
   "outputs": [],
   "source": [
    "# tf(t,d) - raw term frequencies (t: term, d: nos times term t appears in doc d)\n",
    "# tf-idf(t,d) - term frequency inverse document frequency\n",
    "# tf-idf = tf(t,d) * idf(t,x)  = tf(t,d) * log( [1+nd]/[1+df(d,t)] ) \n"
   ]
  },
  {
   "cell_type": "code",
   "execution_count": 8,
   "metadata": {
    "collapsed": false
   },
   "outputs": [
    {
     "name": "stdout",
     "output_type": "stream",
     "text": [
      "[[ 0.    0.43  0.56  0.56  0.    0.43  0.  ]\n",
      " [ 0.    0.43  0.    0.    0.56  0.43  0.56]\n",
      " [ 0.4   0.48  0.31  0.31  0.31  0.48  0.31]]\n"
     ]
    }
   ],
   "source": [
    "# TfidTransformer\n",
    "from sklearn.feature_extraction.text import TfidfTransformer\n",
    "tfidf = TfidfTransformer() #Instantiate Term Frequency invers\n",
    "\n",
    "np.set_printoptions(precision=2)\n",
    "\n",
    "print(tfidf.fit_transform(count.fit_transform(docs)).toarray()) #How much did the term appear in other documents?\n"
   ]
  },
  {
   "cell_type": "code",
   "execution_count": 9,
   "metadata": {
    "collapsed": true
   },
   "outputs": [],
   "source": [
    "# so if the term \"the\" shows up lots of times, does that mean it's important?\n",
    "# how can we make terms that shows up lots of times across documents, less important\n",
    "# let's normalize by the times these terms show up across documents.\n",
    "\n",
    "# employ : [nos of docs containing term \"the\" ]/[total nos of documents]\n",
    "\n",
    "# if term appear often, give it less emphasis\n",
    "\n",
    "# tf-idf(t,d) = tf(t,2)*(idf(t,d)+1)\n",
    "# with idf(t,d) = log ([1+total nos of docs]/[1+nos of docs containing term t])\n"
   ]
  },
  {
   "cell_type": "code",
   "execution_count": 10,
   "metadata": {
    "collapsed": true
   },
   "outputs": [],
   "source": [
    "#Reg functions...to get rid of HTML Tags and emoticons\n",
    "\n",
    "import re\n",
    "def preprocessor(text): \n",
    "# find '<' then anything not '>' [^>], [^>]* 0 or more prefix, then close with '>'    \n",
    "    text = re.sub('<[^>]*>', '', text)\n",
    "    emoticons = re.findall('(?::|;|=)(?:-)?(?:\\)|\\(|D|P)', text) \n",
    "    # eyes[:,;,=], optional nose [-], and mouth[),(,D,P)]\n",
    "    text = re.sub('[\\W]+', ' ', text.lower()) +\\\n",
    "        ' '.join(emoticons).replace('-', '')\n",
    "    return text"
   ]
  },
  {
   "cell_type": "code",
   "execution_count": 11,
   "metadata": {
    "collapsed": false
   },
   "outputs": [
    {
     "name": "stdout",
     "output_type": "stream",
     "text": [
      "is seven title brazil not available;) :)\n"
     ]
    }
   ],
   "source": [
    "tmp = 'is ;) :) seven.<br /><br />Title (Brazil): Not Available'\n",
    "\n",
    "print(preprocessor(tmp))\n",
    "#print(preprocessor('</a>This :) is :( a test :-)!' ))\n",
    "#print(re.findall('(?::|;|=)(?:-)?(?:\\)|\\(|D|P)', '</a>This :) is :( a test :-)!'))"
   ]
  },
  {
   "cell_type": "code",
   "execution_count": 12,
   "metadata": {
    "collapsed": true
   },
   "outputs": [],
   "source": [
    "df['review'] = df['review'].apply(preprocessor) #use the apply method and send in the preprocessor function (applys the function to each row)\n"
   ]
  },
  {
   "cell_type": "code",
   "execution_count": 13,
   "metadata": {
    "collapsed": false
   },
   "outputs": [
    {
     "data": {
      "text/plain": [
       "(49999, 2)"
      ]
     },
     "execution_count": 13,
     "metadata": {},
     "output_type": "execute_result"
    }
   ],
   "source": [
    "df.shape"
   ]
  },
  {
   "cell_type": "code",
   "execution_count": 14,
   "metadata": {
    "collapsed": false,
    "scrolled": true
   },
   "outputs": [
    {
     "data": {
      "text/html": [
       "<div>\n",
       "<style>\n",
       "    .dataframe thead tr:only-child th {\n",
       "        text-align: right;\n",
       "    }\n",
       "\n",
       "    .dataframe thead th {\n",
       "        text-align: left;\n",
       "    }\n",
       "\n",
       "    .dataframe tbody tr th {\n",
       "        vertical-align: top;\n",
       "    }\n",
       "</style>\n",
       "<table border=\"1\" class=\"dataframe\">\n",
       "  <thead>\n",
       "    <tr style=\"text-align: right;\">\n",
       "      <th></th>\n",
       "      <th>review</th>\n",
       "      <th>sentiment</th>\n",
       "    </tr>\n",
       "  </thead>\n",
       "  <tbody>\n",
       "    <tr>\n",
       "      <th>49996</th>\n",
       "      <td>i don t even know where to begin on this one i...</td>\n",
       "      <td>0</td>\n",
       "    </tr>\n",
       "    <tr>\n",
       "      <th>49997</th>\n",
       "      <td>richard tyler is a little boy who is scared of...</td>\n",
       "      <td>0</td>\n",
       "    </tr>\n",
       "    <tr>\n",
       "      <th>49998</th>\n",
       "      <td>i waited long to watch this movie also because...</td>\n",
       "      <td>1</td>\n",
       "    </tr>\n",
       "  </tbody>\n",
       "</table>\n",
       "</div>"
      ],
      "text/plain": [
       "                                                  review  sentiment\n",
       "49996  i don t even know where to begin on this one i...          0\n",
       "49997  richard tyler is a little boy who is scared of...          0\n",
       "49998  i waited long to watch this movie also because...          1"
      ]
     },
     "execution_count": 14,
     "metadata": {},
     "output_type": "execute_result"
    }
   ],
   "source": [
    "df.tail(3)"
   ]
  },
  {
   "cell_type": "code",
   "execution_count": 15,
   "metadata": {
    "collapsed": true
   },
   "outputs": [],
   "source": [
    "# p.242 Processing documents into tokens\n",
    "# split the sentence/corpora into individual elements\n",
    "def tokenizer(text):\n",
    "    return text.split()"
   ]
  },
  {
   "cell_type": "code",
   "execution_count": 16,
   "metadata": {
    "collapsed": false
   },
   "outputs": [
    {
     "data": {
      "text/plain": [
       "['running', 'like', 'running', 'and', 'thus', 'they', 'run']"
      ]
     },
     "execution_count": 16,
     "metadata": {},
     "output_type": "execute_result"
    }
   ],
   "source": [
    "tokenizer('running like running and thus they run')"
   ]
  },
  {
   "cell_type": "code",
   "execution_count": 17,
   "metadata": {
    "collapsed": true
   },
   "outputs": [],
   "source": [
    "# word stemming, tranforming word into their root form\n",
    "from nltk.stem.porter import PorterStemmer\n",
    "porter = PorterStemmer()\n",
    "def tokenizer_porter(text):\n",
    "    return [porter.stem(word) for word in text.split()]"
   ]
  },
  {
   "cell_type": "code",
   "execution_count": 18,
   "metadata": {
    "collapsed": false
   },
   "outputs": [
    {
     "data": {
      "text/plain": [
       "['run', 'like', 'run', 'and', 'thu', 'they', 'run']"
      ]
     },
     "execution_count": 18,
     "metadata": {},
     "output_type": "execute_result"
    }
   ],
   "source": [
    "tokenizer_porter('running like running and thus they run')\n"
   ]
  },
  {
   "cell_type": "code",
   "execution_count": 19,
   "metadata": {
    "collapsed": false
   },
   "outputs": [
    {
     "name": "stdout",
     "output_type": "stream",
     "text": [
      "[nltk_data] Downloading package stopwords to /Users/whs/nltk_data...\n",
      "[nltk_data]   Package stopwords is already up-to-date!\n"
     ]
    },
    {
     "data": {
      "text/plain": [
       "True"
      ]
     },
     "execution_count": 19,
     "metadata": {},
     "output_type": "execute_result"
    }
   ],
   "source": [
    "import nltk\n",
    "nltk.download('stopwords')"
   ]
  },
  {
   "cell_type": "code",
   "execution_count": 20,
   "metadata": {
    "collapsed": false
   },
   "outputs": [
    {
     "data": {
      "text/plain": [
       "['runner', 'like', 'run', 'run', 'lot']"
      ]
     },
     "execution_count": 20,
     "metadata": {},
     "output_type": "execute_result"
    }
   ],
   "source": [
    "from nltk.corpus import stopwords\n",
    "stop = stopwords.words('english')  # stop words have little meaning eg. a, is, and, has, etc. \n",
    "[w for w in tokenizer_porter('a runner likes running and runs a lot') \n",
    " if w not in stop]"
   ]
  },
  {
   "cell_type": "markdown",
   "metadata": {},
   "source": [
    "# Let's Do Some ML"
   ]
  },
  {
   "cell_type": "code",
   "execution_count": 21,
   "metadata": {
    "collapsed": false
   },
   "outputs": [
    {
     "name": "stdout",
     "output_type": "stream",
     "text": [
      "(24999,)\n"
     ]
    }
   ],
   "source": [
    "# pg. 244 of Python Machine Learning by Sebastian Raschka\n",
    "# Training a Logistic Regression model for document classification\n",
    "\n",
    "#Test/Train\n",
    "# (X,y)\n",
    "\n",
    "\n",
    "X = df.loc[:, 'review'].values\n",
    "y  = df.loc[:, 'sentiment'].values\n",
    "\n",
    "X_train = df.loc[:25000, 'review'].values\n",
    "y_train = df.loc[:25000, 'sentiment'].values\n",
    "\n",
    "X_test  = df.loc[25000:, 'review'].values\n",
    "y_test  = df.loc[25000:, 'sentiment'].values\n",
    "\n",
    "print(y_test.shape)"
   ]
  },
  {
   "cell_type": "markdown",
   "metadata": {},
   "source": [
    "#Find the Best Parameters using automation!"
   ]
  },
  {
   "cell_type": "code",
   "execution_count": 22,
   "metadata": {
    "collapsed": true
   },
   "outputs": [],
   "source": [
    "from sklearn.model_selection import GridSearchCV\n",
    "from sklearn.pipeline import Pipeline\n",
    "from sklearn.linear_model import LogisticRegression\n",
    "from sklearn.feature_extraction.text import TfidfVectorizer"
   ]
  },
  {
   "cell_type": "code",
   "execution_count": 23,
   "metadata": {
    "collapsed": true
   },
   "outputs": [],
   "source": [
    "tfidf = TfidfVectorizer(strip_accents = None, \n",
    "                       lowercase = False)\n"
   ]
  },
  {
   "cell_type": "code",
   "execution_count": 24,
   "metadata": {
    "collapsed": true
   },
   "outputs": [],
   "source": [
    "#Optimize to find best params\n",
    "\n",
    "param_grid = [\n",
    "              {'vect__ngram_range':[(1,1)],\n",
    "               'vect__stop_words': [stop, None],\n",
    "               'vect__tokenizer': [tokenizer], #, tokenizer_porter],\n",
    "               'clf__penalty': ['l1', 'l2'],\n",
    "               'clf__C': [100]}, # 0.1, 1.0, 10.0, 100.0]},\n",
    "              \n",
    "              {'vect__ngram_range': [(1,1)],\n",
    "               'vect__stop_words': [stop, None],\n",
    "               'vect__tokenizer': [tokenizer], #, tokenizer_porter],\n",
    "               'vect__use_idf':[False],\n",
    "               'vect__norm':[None],\n",
    "               'clf__penalty': ['l1', 'l2'],\n",
    "               'clf__C':[100]} #[0.1, 1.0,10.0,100.0]}\n",
    "                ]\n"
   ]
  },
  {
   "cell_type": "code",
   "execution_count": 25,
   "metadata": {
    "collapsed": true
   },
   "outputs": [],
   "source": [
    "lr_tfidf = Pipeline([ ('vect', tfidf) ,\n",
    "                      ('clf',  LogisticRegression(random_state=0))])\n",
    "\n"
   ]
  },
  {
   "cell_type": "code",
   "execution_count": 26,
   "metadata": {
    "collapsed": true
   },
   "outputs": [],
   "source": [
    "gs_lr_tfidf = GridSearchCV( lr_tfidf, param_grid, #sends each subset to a different core\n",
    "                          scoring = 'accuracy',\n",
    "                          cv = 5, verbose = 1,\n",
    "                          n_jobs = -1) # n_jobs -1 uses all computer cores"
   ]
  },
  {
   "cell_type": "code",
   "execution_count": 27,
   "metadata": {
    "collapsed": false
   },
   "outputs": [
    {
     "name": "stdout",
     "output_type": "stream",
     "text": [
      "(25001,) (25001,)\n",
      "(24999,) (24999,)\n"
     ]
    }
   ],
   "source": [
    "print(X_train.shape, y_train.shape)\n",
    "print(X_test.shape, y_test.shape)\n"
   ]
  },
  {
   "cell_type": "code",
   "execution_count": 28,
   "metadata": {
    "collapsed": false
   },
   "outputs": [
    {
     "name": "stdout",
     "output_type": "stream",
     "text": [
      "Fitting 5 folds for each of 8 candidates, totalling 40 fits\n"
     ]
    },
    {
     "name": "stderr",
     "output_type": "stream",
     "text": [
      "[Parallel(n_jobs=-1)]: Done  40 out of  40 | elapsed:  3.9min finished\n"
     ]
    },
    {
     "data": {
      "text/plain": [
       "GridSearchCV(cv=5, error_score='raise',\n",
       "       estimator=Pipeline(steps=[('vect', TfidfVectorizer(analyzer='word', binary=False, decode_error='strict',\n",
       "        dtype=<class 'numpy.int64'>, encoding='utf-8', input='content',\n",
       "        lowercase=False, max_df=1.0, max_features=None, min_df=1,\n",
       "        ngram_range=(1, 1), norm='l2', preprocessor=None, smooth_idf=True,\n",
       " ...nalty='l2', random_state=0, solver='liblinear', tol=0.0001,\n",
       "          verbose=0, warm_start=False))]),\n",
       "       fit_params={}, iid=True, n_jobs=-1,\n",
       "       param_grid=[{'vect__ngram_range': [(1, 1)], 'vect__stop_words': [['i', 'me', 'my', 'myself', 'we', 'our', 'ours', 'ourselves', 'you', 'your', 'yours', 'yourself', 'yourselves', 'he', 'him', 'his', 'himself', 'she', 'her', 'hers', 'herself', 'it', 'its', 'itself', 'they', 'them', 'their', 'theirs', '...0>], 'vect__use_idf': [False], 'vect__norm': [None], 'clf__penalty': ['l1', 'l2'], 'clf__C': [100]}],\n",
       "       pre_dispatch='2*n_jobs', refit=True, return_train_score=True,\n",
       "       scoring='accuracy', verbose=1)"
      ]
     },
     "execution_count": 28,
     "metadata": {},
     "output_type": "execute_result"
    }
   ],
   "source": [
    "#Takes like 60 seconds\n",
    "\n",
    "gs_lr_tfidf.fit(X_train, y_train) "
   ]
  },
  {
   "cell_type": "markdown",
   "metadata": {},
   "source": [
    "#Results"
   ]
  },
  {
   "cell_type": "code",
   "execution_count": 29,
   "metadata": {
    "collapsed": false
   },
   "outputs": [
    {
     "name": "stdout",
     "output_type": "stream",
     "text": [
      "The Best parameter set: {'clf__C': 100, 'clf__penalty': 'l2', 'vect__ngram_range': (1, 1), 'vect__stop_words': None, 'vect__tokenizer': <function tokenizer at 0x11c150a60>}\n"
     ]
    }
   ],
   "source": [
    "print('The Best parameter set: %s' % gs_lr_tfidf.best_params_)\n"
   ]
  },
  {
   "cell_type": "code",
   "execution_count": 30,
   "metadata": {
    "collapsed": false
   },
   "outputs": [
    {
     "name": "stdout",
     "output_type": "stream",
     "text": [
      "CV Accuracy: 0.890\n",
      "Test Accuracy: 0.893\n"
     ]
    }
   ],
   "source": [
    "print('CV Accuracy: %.3f'\n",
    "     % gs_lr_tfidf.best_score_)\n",
    "clf = gs_lr_tfidf.best_estimator_\n",
    "print('Test Accuracy: %.3f' % clf.score(X_test, y_test))\n"
   ]
  },
  {
   "cell_type": "code",
   "execution_count": 31,
   "metadata": {
    "collapsed": false
   },
   "outputs": [],
   "source": [
    "import pickle\n",
    "filename = 'IMDB_model.pkl'\n",
    "pickle.dump(gs_lr_tfidf, open(filename, 'wb'))\n",
    " \n",
    "# some time later...\n",
    " \n",
    "# load the model from disk\n",
    "#loaded_model = pickle.load(open(filename, 'rb'))\n",
    "#result = loaded_model.score(X_test, Y_test)\n",
    "#print(result)"
   ]
  },
  {
   "cell_type": "code",
   "execution_count": 32,
   "metadata": {
    "collapsed": false
   },
   "outputs": [
    {
     "name": "stdout",
     "output_type": "stream",
     "text": [
      "Automatically created module for IPython interactive environment\n"
     ]
    }
   ],
   "source": [
    "print(__doc__)\n",
    "\n",
    "import numpy as np\n",
    "import matplotlib.pyplot as plt\n",
    "from sklearn.naive_bayes import GaussianNB\n",
    "from sklearn.svm import SVC\n",
    "from sklearn.datasets import load_digits\n",
    "from sklearn.model_selection import learning_curve\n",
    "from sklearn.model_selection import ShuffleSplit\n",
    "\n",
    "def plot_learning_curve(estimator, title, X, y, ylim=None, cv=None,\n",
    "                        n_jobs=1, train_sizes=np.linspace(.1, 1.0, 5)):\n",
    "    \"\"\"\n",
    "    Generate a simple plot of the test and training learning curve.\n",
    "\n",
    "    Parameters\n",
    "    ----------\n",
    "    estimator : object type that implements the \"fit\" and \"predict\" methods\n",
    "        An object of that type which is cloned for each validation.\n",
    "\n",
    "    title : string\n",
    "        Title for the chart.\n",
    "\n",
    "    X : array-like, shape (n_samples, n_features)\n",
    "        Training vector, where n_samples is the number of samples and\n",
    "        n_features is the number of features.\n",
    "\n",
    "    y : array-like, shape (n_samples) or (n_samples, n_features), optional\n",
    "        Target relative to X for classification or regression;\n",
    "        None for unsupervised learning.\n",
    "\n",
    "    ylim : tuple, shape (ymin, ymax), optional\n",
    "        Defines minimum and maximum yvalues plotted.\n",
    "\n",
    "    cv : int, cross-validation generator or an iterable, optional\n",
    "        Determines the cross-validation splitting strategy.\n",
    "        Possible inputs for cv are:\n",
    "          - None, to use the default 3-fold cross-validation,\n",
    "          - integer, to specify the number of folds.\n",
    "          - An object to be used as a cross-validation generator.\n",
    "          - An iterable yielding train/test splits.\n",
    "\n",
    "        For integer/None inputs, if ``y`` is binary or multiclass,\n",
    "        :class:`StratifiedKFold` used. If the estimator is not a classifier\n",
    "        or if ``y`` is neither binary nor multiclass, :class:`KFold` is used.\n",
    "\n",
    "        Refer :ref:`User Guide <cross_validation>` for the various\n",
    "        cross-validators that can be used here.\n",
    "\n",
    "    n_jobs : integer, optional\n",
    "        Number of jobs to run in parallel (default 1).\n",
    "    \"\"\"\n",
    "    plt.figure()\n",
    "    plt.title(title)\n",
    "    if ylim is not None:\n",
    "        plt.ylim(*ylim)\n",
    "    plt.xlabel(\"Training examples\")\n",
    "    plt.ylabel(\"Score\")\n",
    "    train_sizes, train_scores, test_scores = learning_curve(\n",
    "        estimator, X, y, cv=cv, n_jobs=n_jobs, train_sizes=train_sizes)\n",
    "    train_scores_mean = np.mean(train_scores, axis=1)\n",
    "    train_scores_std = np.std(train_scores, axis=1)\n",
    "    test_scores_mean = np.mean(test_scores, axis=1)\n",
    "    test_scores_std = np.std(test_scores, axis=1)\n",
    "    plt.grid()\n",
    "\n",
    "    plt.fill_between(train_sizes, train_scores_mean - train_scores_std,\n",
    "                     train_scores_mean + train_scores_std, alpha=0.1,\n",
    "                     color=\"r\")\n",
    "    plt.fill_between(train_sizes, test_scores_mean - test_scores_std,\n",
    "                     test_scores_mean + test_scores_std, alpha=0.1, color=\"g\")\n",
    "    plt.plot(train_sizes, train_scores_mean, 'o-', color=\"r\",\n",
    "             label=\"Training score\")\n",
    "    plt.plot(train_sizes, test_scores_mean, 'o-', color=\"g\",\n",
    "             label=\"Cross-validation score\")\n",
    "\n",
    "    plt.legend(loc=\"best\")\n",
    "    return plt"
   ]
  },
  {
   "cell_type": "code",
   "execution_count": 33,
   "metadata": {
    "collapsed": false
   },
   "outputs": [],
   "source": [
    "#Learning Curve, Takes Forever; Skip\n",
    "\n",
    "#estimator = gs_lr_tfidf\n",
    "\n",
    "# Cross validation with 100 iterations to get smoother mean test and train\n",
    "# score curves, each time with 20% data randomly selected as a validation set.\n",
    "#cv = ShuffleSplit(n_splits=100, test_size=0.2, random_state=0)\n",
    "\n",
    "\n",
    "#title = \"Learning Curve (LogReg, $\\IMDB$)\"\n",
    "### SVC is more expensive so we do a lower number of CV iterations:\n",
    "#plot_learning_curve(estimator, title, X, y, cv=cv, n_jobs=4)\n",
    "\n",
    "#plt.show()\n",
    "\n"
   ]
  },
  {
   "cell_type": "markdown",
   "metadata": {},
   "source": [
    "# Random Forest"
   ]
  },
  {
   "cell_type": "code",
   "execution_count": 34,
   "metadata": {
    "collapsed": false
   },
   "outputs": [
    {
     "name": "stdout",
     "output_type": "stream",
     "text": [
      "RandomForestClassifier(bootstrap=True, class_weight=None, criterion='gini',\n",
      "            max_depth=None, max_features='auto', max_leaf_nodes=None,\n",
      "            min_impurity_split=1e-07, min_samples_leaf=1,\n",
      "            min_samples_split=2, min_weight_fraction_leaf=0.0,\n",
      "            n_estimators=10, n_jobs=1, oob_score=False, random_state=None,\n",
      "            verbose=0, warm_start=False)\n"
     ]
    }
   ],
   "source": [
    "from sklearn.ensemble import RandomForestClassifier\n",
    "\n",
    "rf_clf=RandomForestClassifier(max_depth=None)\n",
    "#tree_clf.fit(X,y)\n",
    "print(rf_clf)"
   ]
  },
  {
   "cell_type": "code",
   "execution_count": 35,
   "metadata": {
    "collapsed": true
   },
   "outputs": [],
   "source": [
    "rf_tfidf = Pipeline([ ('vect', tfidf) ,\n",
    "                      ('clf',  rf_clf)])\n",
    "\n"
   ]
  },
  {
   "cell_type": "code",
   "execution_count": 36,
   "metadata": {
    "collapsed": false
   },
   "outputs": [
    {
     "data": {
      "text/plain": [
       "Pipeline(steps=[('vect', TfidfVectorizer(analyzer='word', binary=False, decode_error='strict',\n",
       "        dtype=<class 'numpy.int64'>, encoding='utf-8', input='content',\n",
       "        lowercase=False, max_df=1.0, max_features=None, min_df=1,\n",
       "        ngram_range=(1, 1), norm='l2', preprocessor=None, smooth_idf=True,\n",
       " ...imators=10, n_jobs=1, oob_score=False, random_state=None,\n",
       "            verbose=0, warm_start=False))])"
      ]
     },
     "execution_count": 36,
     "metadata": {},
     "output_type": "execute_result"
    }
   ],
   "source": [
    "rf_tfidf.fit(X_train, y_train) "
   ]
  },
  {
   "cell_type": "code",
   "execution_count": 37,
   "metadata": {
    "collapsed": false
   },
   "outputs": [],
   "source": [
    "#from sklearn.model_selection import cross_val_score\n",
    "#cv_scores = cross_val_score(rf_tfidf, X, y, cv=10)\n",
    "#print(cv_scores)\n",
    "#print(np.mean(cv_scores))\n"
   ]
  },
  {
   "cell_type": "markdown",
   "metadata": {
    "collapsed": true
   },
   "source": [
    "# Importing Data - Tweet Time"
   ]
  },
  {
   "cell_type": "markdown",
   "metadata": {},
   "source": [
    "##Import Model"
   ]
  },
  {
   "cell_type": "code",
   "execution_count": 38,
   "metadata": {
    "collapsed": false
   },
   "outputs": [
    {
     "name": "stdout",
     "output_type": "stream",
     "text": [
      "0.893035721429\n"
     ]
    }
   ],
   "source": [
    "# load the model from disk\n",
    "filename = 'IMDB_model.pkl'\n",
    "loaded_model = pickle.load(open(filename, 'rb'))\n",
    "clf = loaded_model.best_estimator_\n",
    "result = clf.score(X_test, y_test)\n",
    "print(result)"
   ]
  },
  {
   "cell_type": "markdown",
   "metadata": {},
   "source": [
    "#Data Prep"
   ]
  },
  {
   "cell_type": "code",
   "execution_count": 39,
   "metadata": {
    "collapsed": false
   },
   "outputs": [
    {
     "name": "stdout",
     "output_type": "stream",
     "text": [
      "https://alexlitel.github.io/congresstweets/data/2017-10-07.json\n"
     ]
    }
   ],
   "source": [
    "import datetime as dt\n",
    "from datetime import date, timedelta\n",
    "\n",
    "#Ceate a vaiarble: todays_tweets = \n",
    "today=dt.datetime.today().strftime(\"%Y-%m-%d\")\n",
    "yesterday = str(dt.date.today() - timedelta(1))\n",
    "yesterday_json=(yesterday +  '.json')\n",
    "url='https://alexlitel.github.io/congresstweets/data/'\n",
    "url_json= (url + yesterday_json)\n",
    "print(url_json)"
   ]
  },
  {
   "cell_type": "code",
   "execution_count": 40,
   "metadata": {
    "collapsed": false
   },
   "outputs": [
    {
     "name": "stdout",
     "output_type": "stream",
     "text": [
      "DatetimeIndex(['2017-06-22', '2017-06-23', '2017-06-24', '2017-06-25',\n",
      "               '2017-06-26', '2017-06-27', '2017-06-28', '2017-06-29',\n",
      "               '2017-06-30', '2017-07-01',\n",
      "               ...\n",
      "               '2017-09-28', '2017-09-29', '2017-09-30', '2017-10-01',\n",
      "               '2017-10-02', '2017-10-03', '2017-10-04', '2017-10-05',\n",
      "               '2017-10-06', '2017-10-07'],\n",
      "              dtype='datetime64[ns]', length=108, freq='D')\n"
     ]
    }
   ],
   "source": [
    "#Create Dates / A-axis\n",
    "from datetime import date\n",
    "d1 = date(2017, 6, 22)\n",
    "d0 = date.today()\n",
    "delta = d0 - d1\n",
    "periods=delta.days\n",
    "dates = pd.date_range('20170622', periods=periods)\n",
    "print(dates)\n"
   ]
  },
  {
   "cell_type": "code",
   "execution_count": 41,
   "metadata": {
    "collapsed": false
   },
   "outputs": [],
   "source": [
    "#Change Dates to string fo manipulation\n",
    "datesStr=dates.strftime('%Y-%m-%d')"
   ]
  },
  {
   "cell_type": "code",
   "execution_count": 42,
   "metadata": {
    "collapsed": true
   },
   "outputs": [],
   "source": [
    "#Cread new pivot table dfPlot\n",
    "dfPlot = pd.DataFrame()\n",
    "dfPlot['ScoreLR', 'scoresRF']=0\n",
    "scoresLR=[]\n",
    "scoresRF=[]"
   ]
  },
  {
   "cell_type": "code",
   "execution_count": 194,
   "metadata": {
    "collapsed": false
   },
   "outputs": [
    {
     "name": "stdout",
     "output_type": "stream",
     "text": [
      "    lastName firstName  S-H  D-R   twitterHandle state  district notes\n",
      "0      Young       Don  0.0  0.0     RepDonYoung    AK       0.0   NaN\n",
      "1  Murkowski      Lisa  1.0  0.0   LisaMurkowski    AK       NaN   NaN\n",
      "2   Sullivan       Dan  1.0  0.0  SenDanSullivan    AK       NaN   NaN\n",
      "3      Byrne   Bradley  0.0  0.0        RepByrne    AL       1.0   NaN\n",
      "4       Roby    Martha  0.0  0.0   RepMarthaRoby    AL       2.0   NaN\n",
      "sucess 2017-06-22\n",
      "sucess 2017-06-23\n",
      "sucess 2017-06-24\n",
      "sucess 2017-06-25\n",
      "sucess 2017-06-26\n",
      "sucess 2017-06-27\n",
      "sucess 2017-06-28\n",
      "sucess 2017-06-29\n",
      "sucess 2017-06-30\n",
      "sucess 2017-07-01\n",
      "sucess 2017-07-02\n",
      "sucess 2017-07-03\n",
      "sucess 2017-07-04\n",
      "sucess 2017-07-05\n",
      "sucess 2017-07-06\n",
      "sucess 2017-07-07\n",
      "sucess 2017-07-08\n",
      "sucess 2017-07-09\n",
      "sucess 2017-07-10\n",
      "sucess 2017-07-11\n",
      "sucess 2017-07-12\n",
      "sucess 2017-07-13\n",
      "sucess 2017-07-14\n",
      "sucess 2017-07-15\n",
      "sucess 2017-07-16\n",
      "sucess 2017-07-17\n",
      "sucess 2017-07-18\n",
      "sucess 2017-07-19\n",
      "sucess 2017-07-20\n",
      "sucess 2017-07-21\n",
      "sucess 2017-07-22\n",
      "sucess 2017-07-24\n",
      "sucess 2017-07-25\n",
      "sucess 2017-07-26\n",
      "sucess 2017-07-27\n",
      "sucess 2017-07-28\n",
      "sucess 2017-07-29\n",
      "sucess 2017-07-30\n",
      "sucess 2017-07-31\n",
      "sucess 2017-08-01\n",
      "sucess 2017-08-02\n",
      "sucess 2017-08-03\n",
      "sucess 2017-08-04\n",
      "sucess 2017-08-05\n",
      "sucess 2017-08-07\n",
      "sucess 2017-08-08\n",
      "sucess 2017-08-09\n",
      "sucess 2017-08-10\n",
      "sucess 2017-08-11\n",
      "sucess 2017-08-12\n",
      "sucess 2017-08-13\n",
      "sucess 2017-08-14\n",
      "sucess 2017-08-15\n",
      "sucess 2017-08-16\n",
      "sucess 2017-08-17\n",
      "sucess 2017-08-18\n",
      "sucess 2017-08-19\n",
      "sucess 2017-08-20\n",
      "sucess 2017-08-21\n",
      "sucess 2017-08-22\n",
      "sucess 2017-08-23\n",
      "sucess 2017-08-24\n",
      "sucess 2017-08-25\n",
      "sucess 2017-08-26\n",
      "sucess 2017-08-27\n",
      "sucess 2017-08-28\n",
      "sucess 2017-08-29\n",
      "sucess 2017-08-30\n",
      "sucess 2017-08-31\n",
      "sucess 2017-09-01\n",
      "sucess 2017-09-02\n",
      "sucess 2017-09-03\n",
      "sucess 2017-09-04\n",
      "sucess 2017-09-05\n",
      "sucess 2017-09-06\n",
      "sucess 2017-09-07\n",
      "sucess 2017-09-08\n",
      "sucess 2017-09-09\n",
      "sucess 2017-09-10\n",
      "sucess 2017-09-11\n",
      "sucess 2017-09-12\n",
      "sucess 2017-09-13\n",
      "sucess 2017-09-14\n",
      "sucess 2017-09-15\n",
      "sucess 2017-09-16\n",
      "sucess 2017-09-17\n",
      "sucess 2017-09-18\n",
      "sucess 2017-09-19\n",
      "sucess 2017-09-20\n",
      "sucess 2017-09-21\n",
      "sucess 2017-09-22\n",
      "sucess 2017-09-23\n",
      "sucess 2017-09-24\n",
      "sucess 2017-09-25\n",
      "sucess 2017-09-27\n",
      "sucess 2017-09-28\n",
      "sucess 2017-09-29\n",
      "sucess 2017-09-30\n",
      "sucess 2017-10-01\n",
      "sucess 2017-10-02\n",
      "sucess 2017-10-03\n",
      "sucess 2017-10-04\n",
      "sucess 2017-10-05\n",
      "sucess 2017-10-06\n",
      "sucess 2017-10-07\n"
     ]
    },
    {
     "data": {
      "text/plain": [
       "0.55474452554744524"
      ]
     },
     "execution_count": 194,
     "metadata": {},
     "output_type": "execute_result"
    }
   ],
   "source": [
    "#add in party information\n",
    "df_handles = pd.read_csv('congressTwitterHandles.csv')\n",
    "print(df_handles.head())\n",
    "handles = df_handles['twitterHandle'].tolist()\n",
    "\n",
    "demsHandles = []\n",
    "gopHandles = []\n",
    "indHandles = []\n",
    "i=0\n",
    "for handle in handles:\n",
    "    if df_handles['D-R'].loc[i] == 1:\n",
    "        demsHandles.append(df_handles['twitterHandle'].loc[i])\n",
    "    elif df_handles['D-R'].loc[i] == 0:\n",
    "        gopHandles.append(df_handles['twitterHandle'].loc[i])\n",
    "    else:\n",
    "        indHandles.append(handle)\n",
    "        \n",
    "    if df_handles['S-H'].loc[i] == 1:\n",
    "        senHandles.append(df_handles['twitterHandle'].loc[i])\n",
    "    elif df_handles['S-H'].loc[i] == 0:\n",
    "        hosHandles.append(df_handles['twitterHandle'].loc[i])\n",
    "    i += 1\n",
    "\n",
    "demsScoresLR = []\n",
    "demsPredictLR = []\n",
    "senHandles = []\n",
    "hosHandles = []\n",
    "demsText = []\n",
    "gopText = []\n",
    "gopScoresLR = []\n",
    "\n",
    "scoresLR = []\n",
    "scoresRF = []\n",
    "gopPredictLR = []\n",
    "i = 0\n",
    "j = 0\n",
    "for date in datesStr:\n",
    "    try:\n",
    "        date_json=date+'.json'\n",
    "        url='https://alexlitel.github.io/congresstweets/data/'\n",
    "        url_json=url+date_json\n",
    "        data = urllib.request.urlopen(url_json).read()\n",
    "        output = json.loads(data)\n",
    "        dfJson = pd.DataFrame(output)\n",
    "        predictLR = np.mean(clf.predict(dfJson['text']))\n",
    "        predictRF = np.mean(rf_tfidf.predict(dfJson['text']))\n",
    "        scoresLR=np.append(scoresLR,predictLR)\n",
    "        scoresRF=np.append(scoresRF,predictRF)\n",
    "\n",
    "        #Build republican and dem score\n",
    "        #1. Create demsText List\n",
    "\n",
    "        if dfJson['screen_name'].loc[i] in demsHandles:\n",
    "            demsText.append(dfJson['text'].loc[i])\n",
    "        elif dfJson['screen_name'].loc[i] in gopHandles:\n",
    "            gopText.append(dfJson['text'].loc[i])\n",
    "\n",
    "        j = 0\n",
    "        demsText = []\n",
    "        gopText = []\n",
    "        for handle in handles:\n",
    "            if dfJson['screen_name'].loc[j] in demsHandles:\n",
    "                demsText.append(dfJson['text'].loc[j])\n",
    "            elif dfJson['screen_name'].loc[j] in gopHandles:\n",
    "                gopText.append(dfJson['text'].loc[j])\n",
    "\n",
    "\n",
    "\n",
    "            j += 1\n",
    "        i += 1\n",
    "        #demsHandles = df_handles.groupby('D-R') \n",
    "        #demsHandles.apply\n",
    "        #df_handles['D-R']\n",
    "\n",
    "\n",
    "        #2. Predict on that list and average\n",
    "\n",
    "        demsPredictLR = np.mean(clf.predict(demsText))\n",
    "        gopPredictLR = np.mean(clf.predict(gopText))\n",
    "        #3. Average score to create 1 float\n",
    "        demsScoresLR.append(demsPredictLR)\n",
    "        gopScoresLR.append(gopPredictLR)\n",
    "        #4. Loop that each day\n",
    "\n",
    "        print('sucess '+date)\n",
    "    except:\n",
    "        demsScoresLR.append(0.5)\n",
    "        gopScoresLR.append(0.5)\n",
    "demsText\n",
    "demsPredictLR\n"
   ]
  },
  {
   "cell_type": "code",
   "execution_count": 195,
   "metadata": {
    "collapsed": false
   },
   "outputs": [
    {
     "name": "stdout",
     "output_type": "stream",
     "text": [
      "108 108 108 108\n"
     ]
    }
   ],
   "source": [
    "#demsText\n",
    "print(len(gopScoresLR),\n",
    "    len(dates),\n",
    "    len(demsScoresLR),\n",
    "    len(scoresLR))"
   ]
  },
  {
   "cell_type": "markdown",
   "metadata": {},
   "source": [
    "#Loop to import and predict each day from URL"
   ]
  },
  {
   "cell_type": "code",
   "execution_count": 43,
   "metadata": {
    "collapsed": false
   },
   "outputs": [
    {
     "name": "stdout",
     "output_type": "stream",
     "text": [
      "sucess 2017-06-22\n",
      "sucess 2017-06-23\n",
      "sucess 2017-06-24\n",
      "sucess 2017-06-25\n",
      "sucess 2017-06-26\n",
      "sucess 2017-06-27\n",
      "sucess 2017-06-28\n",
      "sucess 2017-06-29\n",
      "sucess 2017-06-30\n",
      "sucess 2017-07-01\n",
      "sucess 2017-07-02\n",
      "sucess 2017-07-03\n",
      "sucess 2017-07-04\n",
      "sucess 2017-07-05\n",
      "sucess 2017-07-06\n",
      "sucess 2017-07-07\n",
      "sucess 2017-07-08\n",
      "sucess 2017-07-09\n",
      "sucess 2017-07-10\n",
      "sucess 2017-07-11\n",
      "sucess 2017-07-12\n",
      "sucess 2017-07-13\n",
      "sucess 2017-07-14\n",
      "sucess 2017-07-15\n",
      "sucess 2017-07-16\n",
      "sucess 2017-07-17\n",
      "sucess 2017-07-18\n",
      "sucess 2017-07-19\n",
      "sucess 2017-07-20\n",
      "sucess 2017-07-21\n",
      "sucess 2017-07-22\n",
      "sucess 2017-07-23\n",
      "sucess 2017-07-24\n",
      "sucess 2017-07-25\n",
      "sucess 2017-07-26\n",
      "sucess 2017-07-27\n",
      "sucess 2017-07-28\n",
      "sucess 2017-07-29\n",
      "sucess 2017-07-30\n",
      "sucess 2017-07-31\n",
      "sucess 2017-08-01\n",
      "sucess 2017-08-02\n",
      "sucess 2017-08-03\n",
      "sucess 2017-08-04\n",
      "sucess 2017-08-05\n",
      "sucess 2017-08-06\n",
      "sucess 2017-08-07\n",
      "sucess 2017-08-08\n",
      "sucess 2017-08-09\n",
      "sucess 2017-08-10\n",
      "sucess 2017-08-11\n",
      "sucess 2017-08-12\n",
      "sucess 2017-08-13\n",
      "sucess 2017-08-14\n",
      "sucess 2017-08-15\n",
      "sucess 2017-08-16\n",
      "sucess 2017-08-17\n",
      "sucess 2017-08-18\n",
      "sucess 2017-08-19\n",
      "sucess 2017-08-20\n",
      "sucess 2017-08-21\n",
      "sucess 2017-08-22\n",
      "sucess 2017-08-23\n",
      "sucess 2017-08-24\n",
      "sucess 2017-08-25\n",
      "sucess 2017-08-26\n",
      "sucess 2017-08-27\n",
      "sucess 2017-08-28\n",
      "sucess 2017-08-29\n",
      "sucess 2017-08-30\n",
      "sucess 2017-08-31\n",
      "sucess 2017-09-01\n",
      "sucess 2017-09-02\n",
      "sucess 2017-09-03\n",
      "sucess 2017-09-04\n",
      "sucess 2017-09-05\n",
      "sucess 2017-09-06\n",
      "sucess 2017-09-07\n",
      "sucess 2017-09-08\n",
      "sucess 2017-09-09\n",
      "sucess 2017-09-10\n",
      "sucess 2017-09-11\n",
      "sucess 2017-09-12\n",
      "sucess 2017-09-13\n",
      "sucess 2017-09-14\n",
      "sucess 2017-09-15\n",
      "sucess 2017-09-16\n",
      "sucess 2017-09-17\n",
      "sucess 2017-09-18\n",
      "sucess 2017-09-19\n",
      "sucess 2017-09-20\n",
      "sucess 2017-09-21\n",
      "sucess 2017-09-22\n",
      "sucess 2017-09-23\n",
      "sucess 2017-09-24\n",
      "sucess 2017-09-25\n",
      "sucess 2017-09-26\n",
      "sucess 2017-09-27\n",
      "sucess 2017-09-28\n",
      "sucess 2017-09-29\n",
      "sucess 2017-09-30\n",
      "sucess 2017-10-01\n",
      "sucess 2017-10-02\n",
      "sucess 2017-10-03\n",
      "sucess 2017-10-04\n",
      "sucess 2017-10-05\n",
      "sucess 2017-10-06\n",
      "sucess 2017-10-07\n"
     ]
    }
   ],
   "source": [
    "import json\n",
    "import urllib\n",
    "import urllib.request\n",
    "\n",
    "\n",
    "for date in datesStr:\n",
    "    i=0\n",
    "    date_json=date+'.json'\n",
    "    url='https://alexlitel.github.io/congresstweets/data/'\n",
    "    url_json=url+date_json\n",
    "    data = urllib.request.urlopen(url_json).read()\n",
    "    output = json.loads(data)\n",
    "    dfJson = pd.DataFrame(output)\n",
    "    predictLR = np.mean(clf.predict(dfJson['text']))\n",
    "    predictRF = np.mean(rf_tfidf.predict(dfJson['text']))\n",
    "    scoresLR=np.append(scoresLR,predictLR)\n",
    "    scoresRF=np.append(scoresRF,predictRF)\n",
    "    i+=1\n",
    "    \n",
    "    #Build republican and dem score\n",
    "    \n",
    "    print('sucess '+date)\n",
    "\n"
   ]
  },
  {
   "cell_type": "code",
   "execution_count": 59,
   "metadata": {
    "collapsed": false
   },
   "outputs": [
    {
     "name": "stdout",
     "output_type": "stream",
     "text": [
      "[ 0.53  0.53  0.61  0.57  0.5   0.53  0.52  0.53  0.56  0.56  0.5   0.54\n",
      "  0.72  0.56  0.56  0.53  0.57  0.51  0.52  0.55  0.54  0.5   0.51  0.59\n",
      "  0.51  0.52  0.5   0.53  0.53  0.56  0.57  0.52  0.54  0.47  0.49  0.49\n",
      "  0.5   0.57  0.51  0.52  0.53  0.55  0.54  0.59  0.55  0.59  0.59  0.57\n",
      "  0.54  0.55  0.55  0.49  0.5   0.53  0.54  0.55  0.57  0.54  0.57  0.52\n",
      "  0.61  0.56  0.57  0.56  0.5   0.51  0.55  0.54  0.51  0.53  0.53  0.53\n",
      "  0.55  0.51  0.58  0.5   0.47  0.47  0.51  0.55  0.54  0.61  0.5   0.53\n",
      "  0.51  0.56  0.57  0.55  0.52  0.56  0.53  0.55  0.51  0.53  0.51  0.51\n",
      "  0.59  0.52  0.52  0.54  0.5   0.55  0.5   0.5   0.5   0.51  0.51  0.52] [ 0.87  0.87  0.9   0.85  0.86  0.86  0.87  0.86  0.86  0.86  0.86  0.87\n",
      "  0.93  0.87  0.87  0.89  0.87  0.89  0.86  0.86  0.87  0.85  0.88  0.89\n",
      "  0.86  0.86  0.87  0.88  0.89  0.88  0.88  0.84  0.88  0.86  0.86  0.86\n",
      "  0.88  0.88  0.89  0.9   0.89  0.9   0.9   0.93  0.91  0.89  0.91  0.89\n",
      "  0.9   0.88  0.89  0.88  0.89  0.89  0.87  0.88  0.9   0.89  0.89  0.91\n",
      "  0.91  0.92  0.9   0.9   0.9   0.91  0.92  0.91  0.91  0.9   0.89  0.89\n",
      "  0.9   0.89  0.88  0.89  0.89  0.87  0.89  0.92  0.9   0.88  0.89  0.88\n",
      "  0.87  0.88  0.89  0.87  0.87  0.86  0.87  0.87  0.88  0.9   0.87  0.86\n",
      "  0.88  0.89  0.88  0.89  0.84  0.87  0.9   0.88  0.87  0.87  0.9   0.89]\n"
     ]
    },
    {
     "data": {
      "text/html": [
       "<div>\n",
       "<style>\n",
       "    .dataframe thead tr:only-child th {\n",
       "        text-align: right;\n",
       "    }\n",
       "\n",
       "    .dataframe thead th {\n",
       "        text-align: left;\n",
       "    }\n",
       "\n",
       "    .dataframe tbody tr th {\n",
       "        vertical-align: top;\n",
       "    }\n",
       "</style>\n",
       "<table border=\"1\" class=\"dataframe\">\n",
       "  <thead>\n",
       "    <tr style=\"text-align: right;\">\n",
       "      <th></th>\n",
       "      <th>0</th>\n",
       "    </tr>\n",
       "  </thead>\n",
       "  <tbody>\n",
       "    <tr>\n",
       "      <th>0.527909</th>\n",
       "      <td>2017-06-22</td>\n",
       "    </tr>\n",
       "    <tr>\n",
       "      <th>0.529884</th>\n",
       "      <td>2017-06-23</td>\n",
       "    </tr>\n",
       "    <tr>\n",
       "      <th>0.613350</th>\n",
       "      <td>2017-06-24</td>\n",
       "    </tr>\n",
       "    <tr>\n",
       "      <th>0.568182</th>\n",
       "      <td>2017-06-25</td>\n",
       "    </tr>\n",
       "    <tr>\n",
       "      <th>0.501700</th>\n",
       "      <td>2017-06-26</td>\n",
       "    </tr>\n",
       "  </tbody>\n",
       "</table>\n",
       "</div>"
      ],
      "text/plain": [
       "                  0\n",
       "0.527909 2017-06-22\n",
       "0.529884 2017-06-23\n",
       "0.613350 2017-06-24\n",
       "0.568182 2017-06-25\n",
       "0.501700 2017-06-26"
      ]
     },
     "execution_count": 59,
     "metadata": {},
     "output_type": "execute_result"
    }
   ],
   "source": [
    "print(scoresLR, scoresRF)\n",
    "dfPlot = pd.DataFrame(scoresLR, date columns=[''])\n",
    "dfPlot.head()"
   ]
  },
  {
   "cell_type": "code",
   "execution_count": 182,
   "metadata": {
    "collapsed": false
   },
   "outputs": [
    {
     "name": "stdout",
     "output_type": "stream",
     "text": [
      "Congress Mood Today is:\n"
     ]
    },
    {
     "data": {
      "image/png": "[encoded data removed]",
      "text/plain": [
       "<IPython.core.display.Image object>"
      ]
     },
     "execution_count": 182,
     "metadata": {},
     "output_type": "execute_result"
    }
   ],
   "source": [
    "#set pictue\n",
    "#Picture Cedits Alina Oleynik\n",
    "from IPython.display import Image\n",
    "Smiley=Image(\"Smiley.png\")\n",
    "Frowney=Image(\"Frowney.png\")\n",
    "\n",
    "if predictLR > .5:\n",
    "    todaysFacePic = Smiley \n",
    "else:\n",
    "    todaysFacePic = Frowney\n",
    "\n",
    "# write image to png\n",
    "fh = open('todaysFacePic.png','w')\n",
    "fh.write('todaysFacePic.png')\n",
    "fh.close()\n",
    "\n",
    "#import urllib.request\n",
    "#with urllib.request.urlopen('https://github.com/whs2k/whs2k.github.io/blob/master/Frowney.png?raw=true') as url:\n",
    "#   facePic = url.read()\n",
    " \n",
    "print('Congress Mood Today is:')\n",
    "todaysFacePic"
   ]
  },
  {
   "cell_type": "code",
   "execution_count": 215,
   "metadata": {
    "collapsed": false
   },
   "outputs": [
    {
     "data": {
      "text/plain": [
       "<matplotlib.figure.Figure at 0x125edaa90>"
      ]
     },
     "metadata": {},
     "output_type": "display_data"
    },
    {
     "data": {
      "text/plain": [
       "<matplotlib.figure.Figure at 0x125edada0>"
      ]
     },
     "metadata": {},
     "output_type": "display_data"
    },
    {
     "data": {
      "text/plain": [
       "<matplotlib.figure.Figure at 0x13032b7b8>"
      ]
     },
     "metadata": {},
     "output_type": "display_data"
    },
    {
     "data": {
      "image/png": "[encoded data removed]",
      "text/plain": [
       "<matplotlib.figure.Figure at 0x123b8ba58>"
      ]
     },
     "metadata": {},
     "output_type": "display_data"
    }
   ],
   "source": [
    "#https://matplotlib.org/users/recipes.html\n",
    "\n",
    "import matplotlib.pyplot as plt\n",
    "import datetime\n",
    "import numpy as np\n",
    "import matplotlib.pyplot as plt\n",
    "import matplotlib.dates as mdates\n",
    "import matplotlib.cbook as cbook\n",
    "thfont = {'fontname':'Tahoma'}\n",
    "\n",
    "plt.clf()\n",
    "\n",
    "\n",
    "fig, ax = plt.subplots(1)\n",
    "ax.plot(dates, scoresLR, '-k' )\n",
    "\n",
    "\n",
    "# rotate and align the tick labels so they look better\n",
    "fig.autofmt_xdate()\n",
    "\n",
    "import matplotlib.dates as mdates\n",
    "ax.fmt_xdata = mdates.DateFormatter('%Y-%m-%d')\n",
    "plt.title('Congress Mood By Twitter')\n",
    "\n",
    "plt.xlabel('Date',**thfont)\n",
    "plt.ylabel('Sentiment',**thfont)\n",
    "plt.savefig(pwd+'/todaysMood.svg', ppi=1200)\n",
    "plt.show()\n",
    "plt.close()\n",
    "\n"
   ]
  },
  {
   "cell_type": "code",
   "execution_count": 211,
   "metadata": {
    "collapsed": false
   },
   "outputs": [
    {
     "data": {
      "text/plain": [
       "<matplotlib.figure.Figure at 0x124248a58>"
      ]
     },
     "metadata": {},
     "output_type": "display_data"
    },
    {
     "data": {
      "image/png": "[encoded data removed]",
      "text/plain": [
       "<matplotlib.figure.Figure at 0x124248128>"
      ]
     },
     "metadata": {},
     "output_type": "display_data"
    }
   ],
   "source": [
    "#https://matplotlib.org/users/recipes.html\n",
    "\n",
    "import matplotlib.pyplot as plt\n",
    "import datetime\n",
    "import numpy as np\n",
    "import matplotlib.pyplot as plt\n",
    "import matplotlib.dates as mdates\n",
    "import matplotlib.cbook as cbook\n",
    "thfont = {'fontname':'Tahoma'}\n",
    "\n",
    "plt.clf()\n",
    "\n",
    "\n",
    "fig, ax = plt.subplots(1)\n",
    "DEM = ax.plot(dates, demsScoresLR, '-b', label = 'Democrats')\n",
    "GOP = ax.plot(dates, gopScoresLR, '-r', label = 'Republicans')\n",
    "\n",
    "# rotate and align the tick labels so they look better\n",
    "fig.autofmt_xdate()\n",
    "\n",
    "import matplotlib.dates as mdates\n",
    "ax.fmt_xdata = mdates.DateFormatter('%Y-%m-%d')\n",
    "plt.title('DEM vs GOP Mood By Twitter')\n",
    "plt.legend(loc = 'upper left')\n",
    "\n",
    "plt.xlabel('Date',**thfont)\n",
    "plt.ylabel('Sentiment',**thfont)\n",
    "plt.savefig(pwd+'/todaysMoodByParty.svg', ppi=1200)\n",
    "plt.show()\n",
    "plt.close()\n",
    "\n"
   ]
  },
  {
   "cell_type": "markdown",
   "metadata": {},
   "source": [
    "# Add in Party Information - TBD"
   ]
  },
  {
   "cell_type": "code",
   "execution_count": 47,
   "metadata": {
    "collapsed": false
   },
   "outputs": [],
   "source": [
    "#dfAccts = pd.read_csv(pwd+'/congressTwitters.csv')\n",
    "#dfNames = pd.read_csv(pwd+'/congressNames.csv')\n",
    "#dfNames.head()\n",
    "#dfNames.drop[4]\n",
    "#dfNames.dropna()#"
   ]
  },
  {
   "cell_type": "markdown",
   "metadata": {},
   "source": [
    "# Prepping and Automating this Script"
   ]
  },
  {
   "cell_type": "code",
   "execution_count": 48,
   "metadata": {
    "collapsed": true
   },
   "outputs": [],
   "source": [
    "#Convert this notebook to a script\n",
    "#$ ipython nbconvert --to script \"congressTweets.ipynb\"\n",
    "\n",
    "#Then Execute\n",
    "#$ python \"congressTweets.py\"\n",
    "\n",
    "\n"
   ]
  },
  {
   "cell_type": "code",
   "execution_count": 49,
   "metadata": {
    "collapsed": true
   },
   "outputs": [],
   "source": [
    "#Automate itpi\n",
    "#http://naelshiab.com/tutorial-how-to-automatically-run-your-scripts-on-your-computer/\n",
    "#1. Create a new text file: \n",
    "#    #!/bin/sh\n",
    "#    python python /Users/whs/Documents/DataJournalism/CongressionalTweets/whs2k.github.io/congressTwitter.py\n",
    "#2. Save it with no extension\n",
    "#3. Convert it to an excecutable \n",
    "#    chmod 755 command\n",
    "#4. Set it up as an app in automater\n",
    "#5. Make it an alert on calender"
   ]
  },
  {
   "cell_type": "code",
   "execution_count": 50,
   "metadata": {
    "collapsed": true
   },
   "outputs": [],
   "source": [
    "# Automate a git file\n",
    "#Last you need to git\n",
    "#git add ..\n",
    "#git commit -m \"daily update\"\n",
    "#git push"
   ]
  },
  {
   "cell_type": "code",
   "execution_count": null,
   "metadata": {
    "collapsed": true
   },
   "outputs": [],
   "source": []
  }
 ],
 "metadata": {
  "anaconda-cloud": {},
  "kernelspec": {
   "display_name": "Python 3",
   "language": "python",
   "name": "python3"
  },
  "language_info": {
   "codemirror_mode": {
    "name": "ipython",
    "version": 3
   },
   "file_extension": ".py",
   "mimetype": "text/x-python",
   "name": "python",
   "nbconvert_exporter": "python",
   "pygments_lexer": "ipython3",
   "version": "3.6.0"
  },
  "latex_envs": {
   "LaTeX_envs_menu_present": true,
   "autocomplete": true,
   "bibliofile": "biblio.bib",
   "cite_by": "apalike",
   "current_citInitial": 1,
   "eqLabelWithNumbers": true,
   "eqNumInitial": 1,
   "hotkeys": {
    "equation": "Ctrl-E",
    "itemize": "Ctrl-I"
   },
   "labels_anchors": false,
   "latex_user_defs": false,
   "report_style_numbering": false,
   "user_envs_cfg": false
  },
  "toc": {
   "nav_menu": {},
   "number_sections": true,
   "sideBar": true,
   "skip_h1_title": false,
   "toc_cell": false,
   "toc_position": {},
   "toc_section_display": "block",
   "toc_window_display": true
  }
 },
 "nbformat": 4,
 "nbformat_minor": 1
}
